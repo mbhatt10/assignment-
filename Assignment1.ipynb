{
 "cells": [
  {
   "cell_type": "markdown",
   "id": "29d38ead-ebe5-48f9-8fcd-470e551eb7f3",
   "metadata": {},
   "source": [
    "#Covert a iteger to a floatig-poit umber."
   ]
  },
  {
   "cell_type": "code",
   "execution_count": 2,
   "id": "b3ff384b-df02-46bf-b072-989efbc72769",
   "metadata": {},
   "outputs": [
    {
     "name": "stdout",
     "output_type": "stream",
     "text": [
      "12.2\n"
     ]
    },
    {
     "data": {
      "text/plain": [
       "float"
      ]
     },
     "execution_count": 2,
     "metadata": {},
     "output_type": "execute_result"
    }
   ],
   "source": [
    "a = 7\n",
    "b = 5.2\n",
    "c = a+b\n",
    "print (c)\n",
    "type (c)"
   ]
  },
  {
   "cell_type": "markdown",
   "id": "47952253-d30b-4f3f-95e4-483a11421ca9",
   "metadata": {},
   "source": [
    "## 2 Covert a float to a iteger."
   ]
  },
  {
   "cell_type": "code",
   "execution_count": 4,
   "id": "6d6fafc4-38ee-4c08-9730-2c1c4f4ee6b2",
   "metadata": {},
   "outputs": [
    {
     "name": "stdout",
     "output_type": "stream",
     "text": [
      "12\n"
     ]
    },
    {
     "data": {
      "text/plain": [
       "int"
      ]
     },
     "execution_count": 4,
     "metadata": {},
     "output_type": "execute_result"
    }
   ],
   "source": [
    "a = 7\n",
    "b = 5.2\n",
    "c = int(a+b)\n",
    "print (c)\n",
    "type (c)"
   ]
  },
  {
   "cell_type": "markdown",
   "id": "ca529c74-edaa-4d2d-baec-0c30ce2db8e9",
   "metadata": {},
   "source": [
    "#3 Covert a iteger to a %trig."
   ]
  },
  {
   "cell_type": "markdown",
   "id": "792f9e26-5ef7-44d1-ab25-c255313525e7",
   "metadata": {},
   "source": [
    "a = 7\n",
    "b = str(a)\n",
    "print(str(b))\n",
    "print(type(b))\n"
   ]
  },
  {
   "cell_type": "markdown",
   "id": "ebe08b98-0f80-4d4f-a337-38e18ca4b668",
   "metadata": {},
   "source": [
    "#4 Covert a li%t to a tuple."
   ]
  },
  {
   "cell_type": "code",
   "execution_count": 7,
   "id": "2b83714e-695a-4faa-baae-799dec8641df",
   "metadata": {},
   "outputs": [
    {
     "name": "stdout",
     "output_type": "stream",
     "text": [
      "(7, 8, 8, 9, 10)\n",
      "<class 'tuple'>\n"
     ]
    }
   ],
   "source": [
    "a = [7,8,8,9,10]\n",
    "b = tuple(a)\n",
    "print(b)\n",
    "print(type(b))\n",
    "    "
   ]
  },
  {
   "cell_type": "code",
   "execution_count": 8,
   "id": "4a438c90-6ce0-4660-ada0-3c324143da55",
   "metadata": {},
   "outputs": [
    {
     "name": "stdout",
     "output_type": "stream",
     "text": [
      "[7, 8, 8, 9, 10]\n",
      "<class 'list'>\n"
     ]
    }
   ],
   "source": [
    "#I Covert a tuple to a li%t.\n",
    "\n",
    "a = (7,8,8,9,10)\n",
    "b = list(a)\n",
    "print(b)\n",
    "print(type(b))\n"
   ]
  },
  {
   "cell_type": "markdown",
   "id": "842187fa-0c4b-4ae6-bdee-cb33f83dcf0a",
   "metadata": {},
   "source": [
    "#Covert a decimal umber to biary."
   ]
  },
  {
   "cell_type": "code",
   "execution_count": 9,
   "id": "2d684f61-669c-402a-8079-d653a9a8d764",
   "metadata": {},
   "outputs": [
    {
     "name": "stdout",
     "output_type": "stream",
     "text": [
      "0b1000\n"
     ]
    }
   ],
   "source": [
    "a = 8\n",
    "b = bin(a)\n",
    "print(b)\n"
   ]
  },
  {
   "cell_type": "markdown",
   "id": "f5912747-0537-4791-85cd-281628d970b6",
   "metadata": {},
   "source": [
    "#^ Covert a o-zero umber to boolea."
   ]
  },
  {
   "cell_type": "code",
   "execution_count": 10,
   "id": "8d1d3689-b7fe-4471-a68f-9991a523363b",
   "metadata": {},
   "outputs": [
    {
     "name": "stdout",
     "output_type": "stream",
     "text": [
      "True\n",
      "<class 'bool'>\n"
     ]
    }
   ],
   "source": [
    "non_zero_number = 10\n",
    "b = bool(non_zero_number)\n",
    "\n",
    "print(b)\n",
    "print(type(b))"
   ]
  },
  {
   "cell_type": "code",
   "execution_count": null,
   "id": "840621a1-c840-4426-b686-8e2084b02437",
   "metadata": {},
   "outputs": [],
   "source": []
  }
 ],
 "metadata": {
  "kernelspec": {
   "display_name": "Python 3 (ipykernel)",
   "language": "python",
   "name": "python3"
  },
  "language_info": {
   "codemirror_mode": {
    "name": "ipython",
    "version": 3
   },
   "file_extension": ".py",
   "mimetype": "text/x-python",
   "name": "python",
   "nbconvert_exporter": "python",
   "pygments_lexer": "ipython3",
   "version": "3.10.8"
  }
 },
 "nbformat": 4,
 "nbformat_minor": 5
}
